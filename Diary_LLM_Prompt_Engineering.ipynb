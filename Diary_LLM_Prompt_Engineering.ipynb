{
  "nbformat": 4,
  "nbformat_minor": 0,
  "metadata": {
    "colab": {
      "provenance": []
    },
    "kernelspec": {
      "name": "python3",
      "display_name": "Python 3"
    },
    "language_info": {
      "name": "python"
    }
  },
  "cells": [
    {
      "cell_type": "code",
      "execution_count": 9,
      "metadata": {
        "id": "fem9x1wGjgTB"
      },
      "outputs": [],
      "source": [
        "import openai"
      ]
    },
    {
      "cell_type": "markdown",
      "source": [
        "# Sample ML Study Data"
      ],
      "metadata": {
        "id": "2kGH_tfzxkvu"
      }
    },
    {
      "cell_type": "code",
      "source": [
        "# Sample Data for Testing\n",
        "diary_sample_ml = [\n",
        "  {\n",
        "    \"User_id\": \"U001\",\n",
        "    \"Project_id\": \"P001\",\n",
        "    \"Log_Time\": \"2025-01-19T10:00:00Z\",\n",
        "    \"Dropdown1\": \"Supervised Learning\",\n",
        "    \"Dropdown2\": \"Linear Regression\",\n",
        "    \"Diary_Content\": \"Today, I reviewed the fundamentals of linear regression, including cost functions and gradient descent. Focused on understanding the cost function’s role in minimizing error during training.\",\n",
        "    \"Time Studied (hr)\": 2\n",
        "  },\n",
        "  {\n",
        "    \"User_id\": \"U001\",\n",
        "    \"Project_id\": \"P001\",\n",
        "    \"Log_Time\": \"2025-01-20T14:30:00Z\",\n",
        "    \"Dropdown1\": \"Supervised Learning\",\n",
        "    \"Dropdown2\": \"Logistic Regression\",\n",
        "    \"Diary_Content\": \"Studied logistic regression for classification tasks. Learned about the sigmoid function, and how it helps model binary classification problems. Implemented logistic regression on a simple dataset.\",\n",
        "    \"Time Studied (hr)\": 1.5\n",
        "  },\n",
        "  {\n",
        "    \"User_id\": \"U001\",\n",
        "    \"Project_id\": \"P001\",\n",
        "    \"Log_Time\": \"2025-01-21T10:00:00Z\",\n",
        "    \"Dropdown1\": \"Supervised Learning\",\n",
        "    \"Dropdown2\": \"Support Vector Machines\",\n",
        "    \"Diary_Content\": \"Explored Support Vector Machines (SVM) for classification. Learned about the kernel trick and how it helps to classify non-linearly separable data by transforming it into higher dimensions.\",\n",
        "    \"Time Studied (hr)\": 2\n",
        "  },\n",
        "  {\n",
        "    \"User_id\": \"U001\",\n",
        "    \"Project_id\": \"P001\",\n",
        "    \"Log_Time\": \"2025-01-22T11:45:00Z\",\n",
        "    \"Dropdown1\": \"Supervised Learning\",\n",
        "    \"Dropdown2\": \"Decision Trees\",\n",
        "    \"Diary_Content\": \"Today, I learned about decision trees. Focused on concepts like entropy, information gain, and how to construct decision trees to split data. Implemented a decision tree classifier and evaluated its performance.\",\n",
        "    \"Time Studied (hr)\": 2.5\n",
        "  },\n",
        "  {\n",
        "    \"User_id\": \"U001\",\n",
        "    \"Project_id\": \"P001\",\n",
        "    \"Log_Time\": \"2025-01-23T13:30:00Z\",\n",
        "    \"Dropdown1\": \"Supervised Learning\",\n",
        "    \"Dropdown2\": \"Random Forests\",\n",
        "    \"Diary_Content\": \"Studied ensemble methods, particularly random forests. Learned how combining multiple decision trees can improve performance and reduce overfitting. Experimented with tuning hyperparameters.\",\n",
        "    \"Time Studied (hr)\": 2\n",
        "  }\n",
        "]\n",
        "\n"
      ],
      "metadata": {
        "id": "w0d8olHdkK3N"
      },
      "execution_count": 10,
      "outputs": []
    },
    {
      "cell_type": "markdown",
      "source": [
        "# Sample Coffee Data"
      ],
      "metadata": {
        "id": "G1sXp4Qgx7r2"
      }
    },
    {
      "cell_type": "code",
      "source": [
        "diary_sample_coffee = [\n",
        "  {\n",
        "    \"User_id\": \"U001\",\n",
        "    \"Project_id\": \"P001\",\n",
        "    \"Log_Time\": \"2025-01-19T10:00:00Z\",\n",
        "    \"Dropdown1\": \"咖啡基础\",\n",
        "    \"Dropdown2\": \"咖啡豆种类\",\n",
        "    \"Diary_Content\": \"今天，我开始学习咖啡豆的不同种类——阿拉比卡、罗布斯塔和利比里卡。我了解了每种咖啡豆的风味和特性，以及它们如何影响最终的咖啡味道。\",\n",
        "    \"Time Studied (hr)\": 1.5\n",
        "  },\n",
        "  {\n",
        "    \"User_id\": \"U001\",\n",
        "    \"Project_id\": \"P001\",\n",
        "    \"Log_Time\": \"2025-01-20T14:30:00Z\",\n",
        "    \"Dropdown1\": \"咖啡冲泡技巧\",\n",
        "    \"Dropdown2\": \"意式浓缩\",\n",
        "    \"Diary_Content\": \"今天学习了意式浓缩咖啡的制作方法。我研究了如何制作一杯完美的浓缩咖啡，了解了研磨度、压实程度和咖啡机压力的重要性。还尝试在家制作了我的第一杯意式浓缩咖啡。\",\n",
        "    \"Time Studied (hr)\": 2\n",
        "  },\n",
        "  {\n",
        "    \"User_id\": \"U001\",\n",
        "    \"Project_id\": \"P001\",\n",
        "    \"Log_Time\": \"2025-01-21T10:00:00Z\",\n",
        "    \"Dropdown1\": \"咖啡冲泡技巧\",\n",
        "    \"Dropdown2\": \"法式压滤\",\n",
        "    \"Diary_Content\": \"今天尝试了法式压滤咖啡。我研究了冲泡过程、咖啡与水的比例，以及浸泡时间对风味的影响。做了几杯咖啡，发现浸泡时间更长的咖啡味道更浓。\",\n",
        "    \"Time Studied (hr)\": 1.5\n",
        "  },\n",
        "  {\n",
        "    \"User_id\": \"U001\",\n",
        "    \"Project_id\": \"P001\",\n",
        "    \"Log_Time\": \"2025-01-22T11:45:00Z\",\n",
        "    \"Dropdown1\": \"咖啡烘焙\",\n",
        "    \"Dropdown2\": \"烘焙过程\",\n",
        "    \"Diary_Content\": \"深入了解了咖啡烘焙技巧。我了解了浅烘焙、中烘焙和深烘焙的区别，重点研究了烘焙过程如何影响咖啡豆的化学成分和风味。观看了一些烘焙视频。\",\n",
        "    \"Time Studied (hr)\": 2\n",
        "  },\n",
        "  {\n",
        "    \"User_id\": \"U001\",\n",
        "    \"Project_id\": \"P001\",\n",
        "    \"Log_Time\": \"2025-01-23T13:30:00Z\",\n",
        "    \"Dropdown1\": \"咖啡品种\",\n",
        "    \"Dropdown2\": \"咖啡混合\",\n",
        "    \"Diary_Content\": \"今天，我探索了咖啡混合。我学习了如何将不同的咖啡豆混合以创造独特的风味和香气。还尝试使用阿拉比卡和罗布斯塔豆混合制作自己的咖啡。\",\n",
        "    \"Time Studied (hr)\": 2\n",
        "  }\n",
        "]\n"
      ],
      "metadata": {
        "id": "k8Cx_0rFx6nD"
      },
      "execution_count": null,
      "outputs": []
    },
    {
      "cell_type": "markdown",
      "source": [
        "#Sample Data Indonesian"
      ],
      "metadata": {
        "id": "9fjb7reZ0k9g"
      }
    },
    {
      "cell_type": "code",
      "source": [
        "diary_sample_indo = [\n",
        "  {\n",
        "    \"User_id\": \"U001\",\n",
        "    \"Project_id\": \"P001\",\n",
        "    \"Log_Time\": \"2025-01-19T10:00:00Z\",\n",
        "    \"Dropdown1\": \"Language Learning\",\n",
        "    \"Dropdown2\": \"Indonesian\",\n",
        "    \"Diary_Content\": \"Today, I started learning Indonesian. Focused on basic greetings and common phrases like 'Selamat pagi' (Good morning) and 'Apa kabar?' (How are you?). I practiced pronunciation and learned to introduce myself.\",\n",
        "    \"Time Studied (hr)\": 1.5\n",
        "  },\n",
        "  {\n",
        "    \"User_id\": \"U001\",\n",
        "    \"Project_id\": \"P001\",\n",
        "    \"Log_Time\": \"2025-01-20T11:00:00Z\",\n",
        "    \"Dropdown1\": \"Language Learning\",\n",
        "    \"Dropdown2\": \"Indonesian\",\n",
        "    \"Diary_Content\": \"I learned the numbers in Indonesian today, from 1 to 20. I also practiced counting aloud and focused on understanding how numbers are structured in the language.\",\n",
        "    \"Time Studied (hr)\": 1.5\n",
        "  },\n",
        "  {\n",
        "    \"User_id\": \"U001\",\n",
        "    \"Project_id\": \"P001\",\n",
        "    \"Log_Time\": \"2025-01-21T14:00:00Z\",\n",
        "    \"Dropdown1\": \"Language Learning\",\n",
        "    \"Dropdown2\": \"Indonesian\",\n",
        "    \"Diary_Content\": \"Today, I learned how to form simple sentences using basic vocabulary. I practiced phrases like 'Saya suka kopi' (I like coffee) and 'Apa itu?' (What is that?). Focused on sentence structure and word order.\",\n",
        "    \"Time Studied (hr)\": 2\n",
        "  },\n",
        "  {\n",
        "    \"User_id\": \"U001\",\n",
        "    \"Project_id\": \"P001\",\n",
        "    \"Log_Time\": \"2025-01-22T10:00:00Z\",\n",
        "    \"Dropdown1\": \"Language Learning\",\n",
        "    \"Dropdown2\": \"Indonesian\",\n",
        "    \"Diary_Content\": \"Today, I focused on Indonesian verbs. I practiced conjugating verbs like 'makan' (to eat) and 'pergi' (to go). I also learned to use them in simple present tense sentences.\",\n",
        "    \"Time Studied (hr)\": 2\n",
        "  },\n",
        "  {\n",
        "    \"User_id\": \"U001\",\n",
        "    \"Project_id\": \"P001\",\n",
        "    \"Log_Time\": \"2025-01-23T16:00:00Z\",\n",
        "    \"Dropdown1\": \"Language Learning\",\n",
        "    \"Dropdown2\": \"Indonesian\",\n",
        "    \"Diary_Content\": \"I spent time today expanding my vocabulary with adjectives. Learned words like 'besar' (big), 'kecil' (small), and 'panas' (hot). I practiced using these in simple sentences.\",\n",
        "    \"Time Studied (hr)\": 1.5\n",
        "  },\n",
        "  {\n",
        "    \"User_id\": \"U001\",\n",
        "    \"Project_id\": \"P001\",\n",
        "    \"Log_Time\": \"2025-01-24T13:30:00Z\",\n",
        "    \"Dropdown1\": \"Language Learning\",\n",
        "    \"Dropdown2\": \"Indonesian\",\n",
        "    \"Diary_Content\": \"Today, I practiced more complex sentences, incorporating vocabulary from earlier lessons. I also worked on listening comprehension by watching a short video in Indonesian and trying to understand the context.\",\n",
        "    \"Time Studied (hr)\": 2\n",
        "  },\n",
        "  {\n",
        "    \"User_id\": \"U001\",\n",
        "    \"Project_id\": \"P001\",\n",
        "    \"Log_Time\": \"2025-01-25T14:00:00Z\",\n",
        "    \"Dropdown1\": \"Language Learning\",\n",
        "    \"Dropdown2\": \"Indonesian\",\n",
        "    \"Diary_Content\": \"Today, I focused on the future tense in Indonesian. I learned how to express future actions using the word 'akan' (will). Practiced forming sentences like 'Saya akan pergi ke pasar' (I will go to the market).\",\n",
        "    \"Time Studied (hr)\": 2\n",
        "  }\n",
        "]\n"
      ],
      "metadata": {
        "id": "S3NImfc50ZC2"
      },
      "execution_count": null,
      "outputs": []
    },
    {
      "cell_type": "code",
      "source": [
        "# Call Open AI API\n",
        "response = client.chat.completions.create(\n",
        "    model=\"gpt-4o-mini\",\n",
        "    messages=[\n",
        "        {\"role\": \"system\", \"content\": system_prompt},  # System message\n",
        "        {\"role\": \"user\", \"content\": prompt}  # User's message\n",
        "    ],\n",
        "    max_tokens=1000\n",
        ")\n",
        "\n",
        "print(response.choices[0].message.content)"
      ],
      "metadata": {
        "id": "S-ZTN_C3pFre"
      },
      "execution_count": null,
      "outputs": []
    },
    {
      "cell_type": "markdown",
      "source": [
        "#Prompt Engineering Starts"
      ],
      "metadata": {
        "id": "GqilotncwKOe"
      }
    },
    {
      "cell_type": "code",
      "source": [
        "# Prompt 1\n",
        "prompt1 = f\"\"\"\n",
        "Based on the user study diary in bracket below,\n",
        "summarize the key points, suggest any areas of improvement, and provide further reading resources.\n",
        "[{diary_sample_ml}]\n",
        "\"\"\""
      ],
      "metadata": {
        "id": "vcS4Zqgwqg0D"
      },
      "execution_count": null,
      "outputs": []
    },
    {
      "cell_type": "markdown",
      "source": [
        "### Summary of Key Points\n",
        "\n",
        "- **User U001** focused on **Supervised Learning** with a specific emphasis on **Linear Regression** and **Classification**:\n",
        "  - On January 19, U001 reviewed the fundamentals of linear regression, covering the cost functions and gradient descent.\n",
        "  - On January 20, U001 explored logistic regression and applied it to a dataset predicting student outcomes.\n",
        "\n",
        "- **User U002** concentrated on **Feature Engineering** and **Evaluation Metrics**:\n",
        "  - On January 19, U002 began working on encoding techniques for categorical features, including both label encoding and one-hot encoding.\n",
        "  - On January 21, U002 learned about regression evaluation metrics, specifically R-squared and RMSE, and compared the performance of different regression techniques.\n",
        "\n",
        "### Areas for Improvement\n",
        "\n",
        "1. **Documentation and Sharing**: Users could enhance their learning by documenting their findings and sharing them with peers or through a collaborative platform. This would help in peer review and deeper discussion.\n",
        "\n",
        "2. **Hands-on Practice**: While theoretical understanding is crucial, applying these concepts in real-world settings or through more complex datasets would solidify their comprehension.\n",
        "\n",
        "3. **Broader Metric Evaluation**: Especially for U002, it may be beneficial to learn a broader range of evaluation metrics, extending beyond R-squared and RMSE to include metrics like MAE, precision, recall, and F1 score for classification tasks.\n",
        "\n",
        "4. **Diversity in Techniques**: Both users could benefit from exploring a wider variety of algorithms and techniques within supervised learning, beyond linear models, to understand strengths and applicability in different scenarios.\n",
        "\n",
        "5. **Integration with Data Visualization**: Users could improve their analysis by learning how to visualize results and findings effectively. This would aid in better interpretation and communication of data insights.\n",
        "\n",
        "### Further Reading Resources\n",
        "\n",
        "1. **Linear Regression**:\n",
        "   - \"The Elements of Statistical Learning\" by Trevor Hastie, Robert Tibshirani, and Jerome Friedman.\n",
        "   - Online Course: \"Machine Learning\" by Andrew Ng on Coursera.\n",
        "\n",
        "2. **Logistic Regression**:\n",
        "   - \"Pattern Recognition and Machine Learning\" by Christopher M. Bishop.\n",
        "\n",
        "3. **Feature Engineering**:\n",
        "   - \"Feature Engineering for Machine Learning\" by Alice Zheng and Amanda Casari.\n",
        "   - Blog Article: \"Feature Engineering: A Comprehensive Guide\" on Towards Data Science.\n",
        "\n",
        "4. **Evaluation Metrics**:\n",
        "   - \"Evaluation Metrics for Machine Learning\" - available on platforms like Towards Data Science.\n",
        "   - Research Paper: \"A Survey on Evaluation Metrics for Machine Learning Models\" available on arXiv.\n",
        "\n",
        "5. **Machine Learning in Practice**:\n",
        "   - \"Hands-On Machine Learning with Scikit-Learn, Keras, and TensorFlow\" by Aurélien Géron.\n",
        "   - \"Data Science from Scratch: First Principles with Python\" by Joel Grus.\n",
        "\n",
        "These resources would provide both users with a comprehensive view of their field and support the areas identified for improvement."
      ],
      "metadata": {
        "id": "U0G8C8r9pplI"
      }
    },
    {
      "cell_type": "code",
      "source": [
        "# Prompt 2\n",
        "\n",
        "prompt2 = f\"\"\"\n",
        "Based on the user study diary in bracket below, first summary the field of study in 20 words;\n",
        "Then, summarize study progress;\n",
        "Then, provide some key concepts for review;\n",
        "Finally, suggest the next topic for user to study.\n",
        "[{diary_sample_ml}]\n",
        "\"\"\""
      ],
      "metadata": {
        "id": "HBiBb9VJpqra"
      },
      "execution_count": null,
      "outputs": []
    },
    {
      "cell_type": "markdown",
      "source": [
        "**Field of Study Summary (20 words):**  \n",
        "The user is studying supervised learning techniques, specifically regression and classification methods, to enhance understanding of machine learning algorithms.\n",
        "\n",
        "**Study Progress Summary:**  \n",
        "The user has diligently progressed through various supervised learning algorithms over five days, focusing on linear and logistic regression, SVM, decision trees, and random forests.\n",
        "\n",
        "**Key Concepts for Review:**  \n",
        "1. Cost functions in linear regression  \n",
        "2. Sigmoid function in logistic regression  \n",
        "3. Kernel trick in Support Vector Machines  \n",
        "4. Entropy and information gain in decision trees  \n",
        "5. Ensemble learning and hyperparameter tuning in random forests  \n",
        "\n",
        "**Next Topic Suggestion:**  \n",
        "Consider studying evaluation metrics for classification and regression models, such as accuracy, precision, recall, F1 score, and mean squared error."
      ],
      "metadata": {
        "id": "veLfEIqaqnKf"
      }
    },
    {
      "cell_type": "code",
      "source": [
        "# Prmopt 3, add system prompt\n",
        "system_prompt = \"\"\"\n",
        "You are a helpful and friendly study tutor.\n",
        "Your task is to analyze user's study diary\n",
        "and provide insightful feedback in an encorage way to user to imporve their study efficiency\n",
        "\"\"\"\n",
        "\n",
        "prompt = f\"\"\"\n",
        "Based on the user study diary in bracket below, first summary the field of study in 20 words;\n",
        "Then, summarize study progress;\n",
        "Then, provide some key concepts for review;\n",
        "Finally, suggest the next topic for user to study.\n",
        "[{diary_sample_ml}]\n",
        "\"\"\""
      ],
      "metadata": {
        "id": "zcF_Y6Orqqo2"
      },
      "execution_count": null,
      "outputs": []
    },
    {
      "cell_type": "markdown",
      "source": [
        "**Field of Study:**\n",
        "Supervised Learning in machine learning, focusing on regression and classification algorithms and their practical applications.\n",
        "\n",
        "**Study Progress:**\n",
        "You have made substantial progress over the past several days in supervised learning algorithms. Starting with linear regression, you have moved through logistic regression, support vector machines, decision trees, and random forests, dedicating a good amount of time to each topic. This structured approach demonstrates your commitment to understanding these foundational concepts.\n",
        "\n",
        "**Key Concepts for Review:**\n",
        "1. Cost functions and gradient descent in linear regression\n",
        "2. Sigmoid function and its role in logistic regression\n",
        "3. Kernel trick for Support Vector Machines (SVM)\n",
        "4. Entropy and information gain in decision trees\n",
        "5. Ensemble methods and hyperparameter tuning in random forests\n",
        "\n",
        "**Next Topic Suggestion:**\n",
        "Consider diving into \"Model Evaluation Metrics.\" Understanding metrics like accuracy, precision, recall, F1 score, and confusion matrix will help you assess model performance critically and apply the algorithms you learned effectively. Keep up the great work!"
      ],
      "metadata": {
        "id": "0wj_ew-QsACw"
      }
    },
    {
      "cell_type": "code",
      "source": [
        "# Prompt 4\n",
        "# Provide more structure guidance, and require response as taking to user directly.\n",
        "system_prompt = \"\"\"\n",
        "You are a helpful and friendly study tutor talking to the user.\n",
        "Your task is to analyze user's study diary. From the perspective of expert in the domain and considering the level of the user,\n",
        "provide insightful feedback to user to imporve their study efficiency.\n",
        "Speak in an encouraging and exciting tone, you want the user to keep study.\n",
        "\"\"\"\n",
        "\n",
        "prompt = f\"\"\"\n",
        "Based on my diary in bracket, response in the structure as below:\n",
        "\n",
        "1. Field of Study: summary the field of study in 20 words;\n",
        "2. Progress Summary: first calculate total hour studied & total study session counts, then provide a summary of progress with key concepts clearly mentioned.\n",
        "3. Review Suggestion: Provide key concepts for review, include 2 questions at the end.\n",
        "4. Next Study Topic Suggestion: suggest the next topic for me to study and briefly explain how it related with my progress.\n",
        "\n",
        "[{diary_sample}]\n",
        "\"\"\""
      ],
      "metadata": {
        "id": "PflToE3csCiP"
      },
      "execution_count": null,
      "outputs": []
    },
    {
      "cell_type": "markdown",
      "source": [
        "What an exciting journey you're on in the field of Supervised Learning! 🎉 Let's dive into the analysis of your study diary:\n",
        "\n",
        "1. **Field of Study**: You're exploring Supervised Learning, a key area in machine learning involving algorithms that learn from labeled data.\n",
        "\n",
        "2. **Progress Summary**:\n",
        "   - **Total Hours Studied**: 10 hours\n",
        "   - **Total Study Sessions**: 5\n",
        "   - **Progress Overview**: You've made impressive strides in your study of supervised learning. Covering essential algorithms such as Linear Regression, Logistic Regression, Support Vector Machines, Decision Trees, and Random Forests, you've not only grasped their fundamentals but also practical implementations. Each session strengthens your understanding of pivotal concepts like cost functions, the sigmoid function, entropy, and ensemble methods, which are crucial for building effective machine learning models. Fantastic work!\n",
        "\n",
        "3. **Review Suggestion**:\n",
        "   To solidify your learning, I recommend reviewing the following key concepts:\n",
        "   - Cost Functions and Gradient Descent\n",
        "   - The Kernel Trick in Support Vector Machines\n",
        "   - Entropy and Information Gain in Decision Trees\n",
        "   - Hyperparameter Tuning in Random Forests\n",
        "\n",
        "   **Questions to Enhance Your Understanding**:\n",
        "   1. How does the choice of cost function affect model performance during training?\n",
        "   2. Can you explain how the kernel trick transforms input data for Support Vector Machines?\n",
        "\n",
        "4. **Next Study Topic Suggestion**:\n",
        "   As you continue on this path, I suggest delving into **Neural Networks** next! This topic naturally follows your current understanding of supervised learning techniques and will expand your toolkit for tackling more complex patterns and relationships in data. Neural networks are the backbone of many advanced machine learning applications, and knowing your current algorithms will give you a solid foundation to build upon. Keep the momentum going, and enjoy the new challenges ahead! 🚀"
      ],
      "metadata": {
        "id": "5nMKpXFjvvYQ"
      }
    },
    {
      "cell_type": "code",
      "source": [
        "# Prompt 5, adjusting the portion of response; adjust system prompt to consider multiple langauge input.\n",
        "\n",
        "system_prompt = \"\"\"\n",
        "You are a helpful and friendly study tutor talking to the user.\n",
        "Your task is to analyze user's study diary. From the perspective of expert in the domain and considering the level of the user,\n",
        "provide insightful feedback to user to imporve their study efficiency.\n",
        "Speak in an encouraging and exciting tone, you want the user to keep study.\n",
        "Respond in the same language as the diary.\n",
        "\"\"\"\n",
        "\n",
        "prompt = f\"\"\"\n",
        "Based on my diary in bracket, response in the structure as below:\n",
        "\n",
        "**Field of Study**: summary the field of study in 20 words;\n",
        "**Progress Summary**: first calculate total hour studied & total study session counts, then provide a summary of progress.\n",
        "**Review Suggestion**: Provide key concepts for review with brief definition, include 2 questions at the end.\n",
        "**Next Study Topic Suggestion**: suggest the next topic for me to study and briefly explain how it related with my progress.\n",
        "\n",
        "[{diary_sample}]\n",
        "\"\"\""
      ],
      "metadata": {
        "id": "AbgfElIYvvq_"
      },
      "execution_count": null,
      "outputs": []
    },
    {
      "cell_type": "markdown",
      "source": [
        "# ML Sample Data response\n",
        "\n",
        "**Field of Study**: Supervised Learning focuses on predicting outcomes based on labeled training data using various machine learning algorithms.\n",
        "\n",
        "**Progress Summary**:\n",
        "Total Hours Studied: 10 hours  \n",
        "Total Study Sessions: 5 sessions  \n",
        "Great job! You've delved into several key areas of supervised learning, enhancing your understanding of foundational algorithms. You're making excellent strides in grasping how different methods function and their applications!\n",
        "\n",
        "**Review Suggestion**:\n",
        "- **Cost Function**: A metric that measures the difference between predicted and actual outcomes, guiding the algorithm to improve its predictions.\n",
        "- **Sigmoid Function**: A mathematical function that maps any real-valued number to a value between 0 and 1, used in logistic regression for binary classification.\n",
        "- **Kernel Trick**: A technique that enables algorithms to operate in higher-dimensional space without directly computing the coordinates, facilitating the classification of non-linear data.\n",
        "- **Entropy**: A measure of the uncertainty in a dataset, used in decision trees to determine the best feature for splitting data.\n",
        "- **Information Gain**: The reduction in entropy achieved by making a specific split in the decision tree.\n",
        "\n",
        "**Questions**:\n",
        "1. How does the cost function impact the performance of linear regression during training?\n",
        "2. In what scenarios would you prefer using a random forest over a single decision tree?\n",
        "\n",
        "**Next Study Topic Suggestion**:\n",
        "Consider studying **Model Evaluation Metrics** next! Understanding metrics like accuracy, precision, recall, and F1-score will help you assess the performance of the algorithms you’ve just studied. It’s essential as you implement your models and want to ensure that they perform well in real-world scenarios. Keep up the fantastic work; your journey through machine learning is just getting started! 💪🚀"
      ],
      "metadata": {
        "id": "CtNDZFo3xKqe"
      }
    },
    {
      "cell_type": "markdown",
      "source": [
        "# Coffe Sample Data Response\n",
        "**Field of Study**: 深入了解咖啡行业，包括咖啡豆种类、冲泡技巧、烘焙方法与品味调配。\n",
        "\n",
        "**Progress Summary**:\n",
        "- 总学习时间：9小时\n",
        "- 总学习时数：5次\n",
        "\n",
        "你的学习进度非常棒！你在咖啡的不同方面做了深入探索，从咖啡豆种类到冲泡技巧，再到烘焙过程和豆子混合，每个环节都增进了你的理解和实际操作能力。继续保持这样的学习热情，你正在成为咖啡的知识专家！\n",
        "\n",
        "**Review Suggestion**:\n",
        "1. **阿拉比卡豆**：一种风味优雅、酸度较高的咖啡豆，适合制作高品质的咖啡。\n",
        "2. **罗布斯塔豆**：一种味道强烈、咖啡因含量较高的豆子，常用于浓缩咖啡和速溶咖啡。\n",
        "3. **法式压滤**：一种使用滤网和浸泡法提取咖啡的技术，以保留更多的油脂和风味。\n",
        "4. **咖啡混合**：将不同的咖啡豆混合，能够创造出独特且复杂的风味和香气。\n",
        "\n",
        "问题：\n",
        "1. 解释阿拉比卡豆与罗布斯塔豆的主要区别。\n",
        "2. 如何确定法式压滤咖啡的最佳浸泡时间？\n",
        "\n",
        "**Next Study Topic Suggestion**: 下一步可以学习“咖啡品鉴”。通过品鉴，你不仅能更好地理解咖啡的风味特征，还能提升你的调配技能，这与你目前对不同咖啡豆的了解相辅相成。实践这些知识将使你在制作和评估咖啡时更加自信！继续努力，你正在朝着成为一位优秀咖啡师的方向迈进！"
      ],
      "metadata": {
        "id": "yJkxFh_oyj3t"
      }
    },
    {
      "cell_type": "markdown",
      "source": [
        "#Indonesian\n",
        "\n",
        "**Field of Study**: Language Learning, focusing on Indonesian through vocabulary, grammar, pronunciation, and basic conversational skills.\n",
        "\n",
        "**Progress Summary**:\n",
        "Total hours studied: 12.5 hours  \n",
        "Total study sessions: 7 sessions  \n",
        "You've made fantastic progress in learning Indonesian! You've consistently engaged with different aspects of the language, focusing on essentials such as greetings, numbers, sentence structure, and even tenses—all forming a strong foundation!\n",
        "\n",
        "**Review Suggestion**:\n",
        "1. **Basic Greetings**: Common phrases used for introductions and pleasantries, essential for everyday conversations.\n",
        "2. **Simple Sentence Structure**: Understanding how to form basic sentences helps in constructing grammatically correct phrases.\n",
        "3. **Indonesian Verbs**: Keywords denoting action, vital for expressing what you or others are doing.\n",
        "4. **Future Tense**: A grammatical structure to indicate actions that will occur, important for planning and expressing intentions.\n",
        "\n",
        "Questions:\n",
        "1. Can you list 5 basic greetings you have learned in Indonesian?\n",
        "2. How do you conjugate the verb “pergi” in the present tense?\n",
        "\n",
        "**Next Study Topic Suggestion**:\n",
        "Consider studying **Indonesian Culture and Common Expressions** next! This will pair brilliantly with your foundational skills and enrich your understanding of the language in context. Learning about cultural nuances, idiomatic expressions, and customs will enhance your conversational abilities and deepen your appreciation of the language. Keep up the incredible work—you're doing amazing! 🌟"
      ],
      "metadata": {
        "id": "O4YAnYQE0w9p"
      }
    },
    {
      "cell_type": "code",
      "source": [],
      "metadata": {
        "id": "6Sa_1sLEypYO"
      },
      "execution_count": 10,
      "outputs": []
    }
  ]
}