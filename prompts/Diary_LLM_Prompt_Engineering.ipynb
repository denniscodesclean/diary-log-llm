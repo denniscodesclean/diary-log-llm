{
  "nbformat": 4,
  "nbformat_minor": 0,
  "metadata": {
    "colab": {
      "provenance": []
    },
    "kernelspec": {
      "name": "python3",
      "display_name": "Python 3"
    },
    "language_info": {
      "name": "python"
    }
  },
  "cells": [
    {
      "cell_type": "code",
      "execution_count": 9,
      "metadata": {
        "id": "fem9x1wGjgTB"
      },
      "outputs": [],
      "source": [
        "import openai"
      ]
    },
    {
      "cell_type": "markdown",
      "source": [
        "# Sample ML Study Data"
      ],
      "metadata": {
        "id": "2kGH_tfzxkvu"
      }
    },
    {
      "cell_type": "code",
      "source": [
        "# Sample Data for Testing\n",
        "diary_sample_ml = [\n",
        "  {\n",
        "    \"User_id\": \"U001\",\n",
        "    \"Project_id\": \"P001\",\n",
        "    \"Log_Time\": \"2025-01-19T10:00:00Z\",\n",
        "    \"Dropdown1\": \"Supervised Learning\",\n",
        "    \"Dropdown2\": \"Linear Regression\",\n",
        "    \"Diary_Content\": \"Today, I reviewed the fundamentals of linear regression, including cost functions and gradient descent. Focused on understanding the cost function’s role in minimizing error during training.\",\n",
        "    \"Time Studied (hr)\": 2\n",
        "  },\n",
        "  {\n",
        "    \"User_id\": \"U001\",\n",
        "    \"Project_id\": \"P001\",\n",
        "    \"Log_Time\": \"2025-01-20T14:30:00Z\",\n",
        "    \"Dropdown1\": \"Supervised Learning\",\n",
        "    \"Dropdown2\": \"Logistic Regression\",\n",
        "    \"Diary_Content\": \"Studied logistic regression for classification tasks. Learned about the sigmoid function, and how it helps model binary classification problems. Implemented logistic regression on a simple dataset.\",\n",
        "    \"Time Studied (hr)\": 1.5\n",
        "  },\n",
        "  {\n",
        "    \"User_id\": \"U001\",\n",
        "    \"Project_id\": \"P001\",\n",
        "    \"Log_Time\": \"2025-01-21T10:00:00Z\",\n",
        "    \"Dropdown1\": \"Supervised Learning\",\n",
        "    \"Dropdown2\": \"Support Vector Machines\",\n",
        "    \"Diary_Content\": \"Explored Support Vector Machines (SVM) for classification. Learned about the kernel trick and how it helps to classify non-linearly separable data by transforming it into higher dimensions.\",\n",
        "    \"Time Studied (hr)\": 2\n",
        "  },\n",
        "  {\n",
        "    \"User_id\": \"U001\",\n",
        "    \"Project_id\": \"P001\",\n",
        "    \"Log_Time\": \"2025-01-22T11:45:00Z\",\n",
        "    \"Dropdown1\": \"Supervised Learning\",\n",
        "    \"Dropdown2\": \"Decision Trees\",\n",
        "    \"Diary_Content\": \"Today, I learned about decision trees. Focused on concepts like entropy, information gain, and how to construct decision trees to split data. Implemented a decision tree classifier and evaluated its performance.\",\n",
        "    \"Time Studied (hr)\": 2.5\n",
        "  },\n",
        "  {\n",
        "    \"User_id\": \"U001\",\n",
        "    \"Project_id\": \"P001\",\n",
        "    \"Log_Time\": \"2025-01-23T13:30:00Z\",\n",
        "    \"Dropdown1\": \"Supervised Learning\",\n",
        "    \"Dropdown2\": \"Random Forests\",\n",
        "    \"Diary_Content\": \"Studied ensemble methods, particularly random forests. Learned how combining multiple decision trees can improve performance and reduce overfitting. Experimented with tuning hyperparameters.\",\n",
        "    \"Time Studied (hr)\": 2\n",
        "  }\n",
        "]\n",
        "\n"
      ],
      "metadata": {
        "id": "w0d8olHdkK3N"
      },
      "execution_count": 10,
      "outputs": []
    },
    {
      "cell_type": "markdown",
      "source": [
        "# Sample Coffee Data"
      ],
      "metadata": {
        "id": "G1sXp4Qgx7r2"
      }
    },
    {
      "cell_type": "code",
      "source": [
        "diary_sample_coffee = [\n",
        "  {\n",
        "    \"User_id\": \"U001\",\n",
        "    \"Project_id\": \"P001\",\n",
        "    \"Log_Time\": \"2025-01-19T10:00:00Z\",\n",
        "    \"Dropdown1\": \"咖啡基础\",\n",
        "    \"Dropdown2\": \"咖啡豆种类\",\n",
        "    \"Diary_Content\": \"今天，我开始学习咖啡豆的不同种类——阿拉比卡、罗布斯塔和利比里卡。我了解了每种咖啡豆的风味和特性，以及它们如何影响最终的咖啡味道。\",\n",
        "    \"Time Studied (hr)\": 1.5\n",
        "  },\n",
        "  {\n",
        "    \"User_id\": \"U001\",\n",
        "    \"Project_id\": \"P001\",\n",
        "    \"Log_Time\": \"2025-01-20T14:30:00Z\",\n",
        "    \"Dropdown1\": \"咖啡冲泡技巧\",\n",
        "    \"Dropdown2\": \"意式浓缩\",\n",
        "    \"Diary_Content\": \"今天学习了意式浓缩咖啡的制作方法。我研究了如何制作一杯完美的浓缩咖啡，了解了研磨度、压实程度和咖啡机压力的重要性。还尝试在家制作了我的第一杯意式浓缩咖啡。\",\n",
        "    \"Time Studied (hr)\": 2\n",
        "  },\n",
        "  {\n",
        "    \"User_id\": \"U001\",\n",
        "    \"Project_id\": \"P001\",\n",
        "    \"Log_Time\": \"2025-01-21T10:00:00Z\",\n",
        "    \"Dropdown1\": \"咖啡冲泡技巧\",\n",
        "    \"Dropdown2\": \"法式压滤\",\n",
        "    \"Diary_Content\": \"今天尝试了法式压滤咖啡。我研究了冲泡过程、咖啡与水的比例，以及浸泡时间对风味的影响。做了几杯咖啡，发现浸泡时间更长的咖啡味道更浓。\",\n",
        "    \"Time Studied (hr)\": 1.5\n",
        "  },\n",
        "  {\n",
        "    \"User_id\": \"U001\",\n",
        "    \"Project_id\": \"P001\",\n",
        "    \"Log_Time\": \"2025-01-22T11:45:00Z\",\n",
        "    \"Dropdown1\": \"咖啡烘焙\",\n",
        "    \"Dropdown2\": \"烘焙过程\",\n",
        "    \"Diary_Content\": \"深入了解了咖啡烘焙技巧。我了解了浅烘焙、中烘焙和深烘焙的区别，重点研究了烘焙过程如何影响咖啡豆的化学成分和风味。观看了一些烘焙视频。\",\n",
        "    \"Time Studied (hr)\": 2\n",
        "  },\n",
        "  {\n",
        "    \"User_id\": \"U001\",\n",
        "    \"Project_id\": \"P001\",\n",
        "    \"Log_Time\": \"2025-01-23T13:30:00Z\",\n",
        "    \"Dropdown1\": \"咖啡品种\",\n",
        "    \"Dropdown2\": \"咖啡混合\",\n",
        "    \"Diary_Content\": \"今天，我探索了咖啡混合。我学习了如何将不同的咖啡豆混合以创造独特的风味和香气。还尝试使用阿拉比卡和罗布斯塔豆混合制作自己的咖啡。\",\n",
        "    \"Time Studied (hr)\": 2\n",
        "  }\n",
        "]\n"
      ],
      "metadata": {
        "id": "k8Cx_0rFx6nD"
      },
      "execution_count": null,
      "outputs": []
    },
    {
      "cell_type": "markdown",
      "source": [
        "#Sample Data Indonesian"
      ],
      "metadata": {
        "id": "9fjb7reZ0k9g"
      }
    },
    {
      "cell_type": "code",
      "source": [
        "diary_sample_indo = [\n",
        "  {\n",
        "    \"User_id\": \"U001\",\n",
        "    \"Project_id\": \"P001\",\n",
        "    \"Log_Time\": \"2025-01-19T10:00:00Z\",\n",
        "    \"Dropdown1\": \"Language Learning\",\n",
        "    \"Dropdown2\": \"Indonesian\",\n",
        "    \"Diary_Content\": \"Today, I started learning Indonesian. Focused on basic greetings and common phrases like 'Selamat pagi' (Good morning) and 'Apa kabar?' (How are you?). I practiced pronunciation and learned to introduce myself.\",\n",
        "    \"Time Studied (hr)\": 1.5\n",
        "  },\n",
        "  {\n",
        "    \"User_id\": \"U001\",\n",
        "    \"Project_id\": \"P001\",\n",
        "    \"Log_Time\": \"2025-01-20T11:00:00Z\",\n",
        "    \"Dropdown1\": \"Language Learning\",\n",
        "    \"Dropdown2\": \"Indonesian\",\n",
        "    \"Diary_Content\": \"I learned the numbers in Indonesian today, from 1 to 20. I also practiced counting aloud and focused on understanding how numbers are structured in the language.\",\n",
        "    \"Time Studied (hr)\": 1.5\n",
        "  },\n",
        "  {\n",
        "    \"User_id\": \"U001\",\n",
        "    \"Project_id\": \"P001\",\n",
        "    \"Log_Time\": \"2025-01-21T14:00:00Z\",\n",
        "    \"Dropdown1\": \"Language Learning\",\n",
        "    \"Dropdown2\": \"Indonesian\",\n",
        "    \"Diary_Content\": \"Today, I learned how to form simple sentences using basic vocabulary. I practiced phrases like 'Saya suka kopi' (I like coffee) and 'Apa itu?' (What is that?). Focused on sentence structure and word order.\",\n",
        "    \"Time Studied (hr)\": 2\n",
        "  },\n",
        "  {\n",
        "    \"User_id\": \"U001\",\n",
        "    \"Project_id\": \"P001\",\n",
        "    \"Log_Time\": \"2025-01-22T10:00:00Z\",\n",
        "    \"Dropdown1\": \"Language Learning\",\n",
        "    \"Dropdown2\": \"Indonesian\",\n",
        "    \"Diary_Content\": \"Today, I focused on Indonesian verbs. I practiced conjugating verbs like 'makan' (to eat) and 'pergi' (to go). I also learned to use them in simple present tense sentences.\",\n",
        "    \"Time Studied (hr)\": 2\n",
        "  },\n",
        "  {\n",
        "    \"User_id\": \"U001\",\n",
        "    \"Project_id\": \"P001\",\n",
        "    \"Log_Time\": \"2025-01-23T16:00:00Z\",\n",
        "    \"Dropdown1\": \"Language Learning\",\n",
        "    \"Dropdown2\": \"Indonesian\",\n",
        "    \"Diary_Content\": \"I spent time today expanding my vocabulary with adjectives. Learned words like 'besar' (big), 'kecil' (small), and 'panas' (hot). I practiced using these in simple sentences.\",\n",
        "    \"Time Studied (hr)\": 1.5\n",
        "  },\n",
        "  {\n",
        "    \"User_id\": \"U001\",\n",
        "    \"Project_id\": \"P001\",\n",
        "    \"Log_Time\": \"2025-01-24T13:30:00Z\",\n",
        "    \"Dropdown1\": \"Language Learning\",\n",
        "    \"Dropdown2\": \"Indonesian\",\n",
        "    \"Diary_Content\": \"Today, I practiced more complex sentences, incorporating vocabulary from earlier lessons. I also worked on listening comprehension by watching a short video in Indonesian and trying to understand the context.\",\n",
        "    \"Time Studied (hr)\": 2\n",
        "  },\n",
        "  {\n",
        "    \"User_id\": \"U001\",\n",
        "    \"Project_id\": \"P001\",\n",
        "    \"Log_Time\": \"2025-01-25T14:00:00Z\",\n",
        "    \"Dropdown1\": \"Language Learning\",\n",
        "    \"Dropdown2\": \"Indonesian\",\n",
        "    \"Diary_Content\": \"Today, I focused on the future tense in Indonesian. I learned how to express future actions using the word 'akan' (will). Practiced forming sentences like 'Saya akan pergi ke pasar' (I will go to the market).\",\n",
        "    \"Time Studied (hr)\": 2\n",
        "  }\n",
        "]\n"
      ],
      "metadata": {
        "id": "S3NImfc50ZC2"
      },
      "execution_count": null,
      "outputs": []
    },
    {
      "cell_type": "code",
      "source": [
        "# Call Open AI API\n",
        "response = client.chat.completions.create(\n",
        "    model=\"gpt-4o-mini\",\n",
        "    messages=[\n",
        "        {\"role\": \"system\", \"content\": system_prompt},  # System message\n",
        "        {\"role\": \"user\", \"content\": prompt}  # User's message\n",
        "    ],\n",
        "    max_tokens=1000\n",
        ")\n",
        "\n",
        "print(response.choices[0].message.content)"
      ],
      "metadata": {
        "id": "S-ZTN_C3pFre"
      },
      "execution_count": null,
      "outputs": []
    },
    {
      "cell_type": "markdown",
      "source": [
        "#Prompt Engineering Starts"
      ],
      "metadata": {
        "id": "GqilotncwKOe"
      }
    },
    {
      "cell_type": "code",
      "source": [
        "# Prompt 1\n",
        "prompt1 = f\"\"\"\n",
        "Based on the user study diary in bracket below,\n",
        "summarize the key points, suggest any areas of improvement, and provide further reading resources.\n",
        "[{diary_sample_ml}]\n",
        "\"\"\""
      ],
      "metadata": {
        "id": "vcS4Zqgwqg0D"
      },
      "execution_count": null,
      "outputs": []
    },
    {
      "cell_type": "markdown",
      "source": [
        "### Summary of Key Points\n",
        "\n",
        "- **User U001** focused on **Supervised Learning** with a specific emphasis on **Linear Regression** and **Classification**:\n",
        "  - On January 19, U001 reviewed the fundamentals of linear regression, covering the cost functions and gradient descent.\n",
        "  - On January 20, U001 explored logistic regression and applied it to a dataset predicting student outcomes.\n",
        "\n",
        "- **User U002** concentrated on **Feature Engineering** and **Evaluation Metrics**:\n",
        "  - On January 19, U002 began working on encoding techniques for categorical features, including both label encoding and one-hot encoding.\n",
        "  - On January 21, U002 learned about regression evaluation metrics, specifically R-squared and RMSE, and compared the performance of different regression techniques.\n",
        "\n",
        "### Areas for Improvement\n",
        "\n",
        "1. **Documentation and Sharing**: Users could enhance their learning by documenting their findings and sharing them with peers or through a collaborative platform. This would help in peer review and deeper discussion.\n",
        "\n",
        "2. **Hands-on Practice**: While theoretical understanding is crucial, applying these concepts in real-world settings or through more complex datasets would solidify their comprehension.\n",
        "\n",
        "3. **Broader Metric Evaluation**: Especially for U002, it may be beneficial to learn a broader range of evaluation metrics, extending beyond R-squared and RMSE to include metrics like MAE, precision, recall, and F1 score for classification tasks.\n",
        "\n",
        "4. **Diversity in Techniques**: Both users could benefit from exploring a wider variety of algorithms and techniques within supervised learning, beyond linear models, to understand strengths and applicability in different scenarios.\n",
        "\n",
        "5. **Integration with Data Visualization**: Users could improve their analysis by learning how to visualize results and findings effectively. This would aid in better interpretation and communication of data insights.\n",
        "\n",
        "### Further Reading Resources\n",
        "\n",
        "1. **Linear Regression**:\n",
        "   - \"The Elements of Statistical Learning\" by Trevor Hastie, Robert Tibshirani, and Jerome Friedman.\n",
        "   - Online Course: \"Machine Learning\" by Andrew Ng on Coursera.\n",
        "\n",
        "2. **Logistic Regression**:\n",
        "   - \"Pattern Recognition and Machine Learning\" by Christopher M. Bishop.\n",
        "\n",
        "3. **Feature Engineering**:\n",
        "   - \"Feature Engineering for Machine Learning\" by Alice Zheng and Amanda Casari.\n",
        "   - Blog Article: \"Feature Engineering: A Comprehensive Guide\" on Towards Data Science.\n",
        "\n",
        "4. **Evaluation Metrics**:\n",
        "   - \"Evaluation Metrics for Machine Learning\" - available on platforms like Towards Data Science.\n",
        "   - Research Paper: \"A Survey on Evaluation Metrics for Machine Learning Models\" available on arXiv.\n",
        "\n",
        "5. **Machine Learning in Practice**:\n",
        "   - \"Hands-On Machine Learning with Scikit-Learn, Keras, and TensorFlow\" by Aurélien Géron.\n",
        "   - \"Data Science from Scratch: First Principles with Python\" by Joel Grus.\n",
        "\n",
        "These resources would provide both users with a comprehensive view of their field and support the areas identified for improvement."
      ],
      "metadata": {
        "id": "U0G8C8r9pplI"
      }
    },
    {
      "cell_type": "code",
      "source": [
        "# Prompt 2\n",
        "\n",
        "prompt2 = f\"\"\"\n",
        "Based on the user study diary in bracket below, first summary the field of study in 20 words;\n",
        "Then, summarize study progress;\n",
        "Then, provide some key concepts for review;\n",
        "Finally, suggest the next topic for user to study.\n",
        "[{diary_sample_ml}]\n",
        "\"\"\""
      ],
      "metadata": {
        "id": "HBiBb9VJpqra"
      },
      "execution_count": null,
      "outputs": []
    },
    {
      "cell_type": "markdown",
      "source": [
        "**Field of Study Summary (20 words):**  \n",
        "The user is studying supervised learning techniques, specifically regression and classification methods, to enhance understanding of machine learning algorithms.\n",
        "\n",
        "**Study Progress Summary:**  \n",
        "The user has diligently progressed through various supervised learning algorithms over five days, focusing on linear and logistic regression, SVM, decision trees, and random forests.\n",
        "\n",
        "**Key Concepts for Review:**  \n",
        "1. Cost functions in linear regression  \n",
        "2. Sigmoid function in logistic regression  \n",
        "3. Kernel trick in Support Vector Machines  \n",
        "4. Entropy and information gain in decision trees  \n",
        "5. Ensemble learning and hyperparameter tuning in random forests  \n",
        "\n",
        "**Next Topic Suggestion:**  \n",
        "Consider studying evaluation metrics for classification and regression models, such as accuracy, precision, recall, F1 score, and mean squared error."
      ],
      "metadata": {
        "id": "veLfEIqaqnKf"
      }
    },
    {
      "cell_type": "code",
      "source": [
        "# Prmopt 3, add system prompt\n",
        "system_prompt = \"\"\"\n",
        "You are a helpful and friendly study tutor.\n",
        "Your task is to analyze user's study diary\n",
        "and provide insightful feedback in an encorage way to user to imporve their study efficiency\n",
        "\"\"\"\n",
        "\n",
        "prompt = f\"\"\"\n",
        "Based on the user study diary in bracket below, first summary the field of study in 20 words;\n",
        "Then, summarize study progress;\n",
        "Then, provide some key concepts for review;\n",
        "Finally, suggest the next topic for user to study.\n",
        "[{diary_sample_ml}]\n",
        "\"\"\""
      ],
      "metadata": {
        "id": "zcF_Y6Orqqo2"
      },
      "execution_count": null,
      "outputs": []
    },
    {
      "cell_type": "markdown",
      "source": [
        "**Field of Study:**\n",
        "Supervised Learning in machine learning, focusing on regression and classification algorithms and their practical applications.\n",
        "\n",
        "**Study Progress:**\n",
        "You have made substantial progress over the past several days in supervised learning algorithms. Starting with linear regression, you have moved through logistic regression, support vector machines, decision trees, and random forests, dedicating a good amount of time to each topic. This structured approach demonstrates your commitment to understanding these foundational concepts.\n",
        "\n",
        "**Key Concepts for Review:**\n",
        "1. Cost functions and gradient descent in linear regression\n",
        "2. Sigmoid function and its role in logistic regression\n",
        "3. Kernel trick for Support Vector Machines (SVM)\n",
        "4. Entropy and information gain in decision trees\n",
        "5. Ensemble methods and hyperparameter tuning in random forests\n",
        "\n",
        "**Next Topic Suggestion:**\n",
        "Consider diving into \"Model Evaluation Metrics.\" Understanding metrics like accuracy, precision, recall, F1 score, and confusion matrix will help you assess model performance critically and apply the algorithms you learned effectively. Keep up the great work!"
      ],
      "metadata": {
        "id": "0wj_ew-QsACw"
      }
    },
    {
      "cell_type": "code",
      "source": [
        "# Prompt 4\n",
        "# Provide more structure guidance, and require response as taking to user directly.\n",
        "system_prompt = \"\"\"\n",
        "You are a helpful and friendly study tutor talking to the user.\n",
        "Your task is to analyze user's study diary. From the perspective of expert in the domain and considering the level of the user,\n",
        "provide insightful feedback to user to imporve their study efficiency.\n",
        "Speak in an encouraging and exciting tone, you want the user to keep study.\n",
        "\"\"\"\n",
        "\n",
        "prompt = f\"\"\"\n",
        "Based on my diary in bracket, response in the structure as below:\n",
        "\n",
        "1. Field of Study: summary the field of study in 20 words;\n",
        "2. Progress Summary: first calculate total hour studied & total study session counts, then provide a summary of progress with key concepts clearly mentioned.\n",
        "3. Review Suggestion: Provide key concepts for review, include 2 questions at the end.\n",
        "4. Next Study Topic Suggestion: suggest the next topic for me to study and briefly explain how it related with my progress.\n",
        "\n",
        "[{diary_sample}]\n",
        "\"\"\""
      ],
      "metadata": {
        "id": "PflToE3csCiP"
      },
      "execution_count": null,
      "outputs": []
    },
    {
      "cell_type": "markdown",
      "source": [
        "What an exciting journey you're on in the field of Supervised Learning! 🎉 Let's dive into the analysis of your study diary:\n",
        "\n",
        "1. **Field of Study**: You're exploring Supervised Learning, a key area in machine learning involving algorithms that learn from labeled data.\n",
        "\n",
        "2. **Progress Summary**:\n",
        "   - **Total Hours Studied**: 10 hours\n",
        "   - **Total Study Sessions**: 5\n",
        "   - **Progress Overview**: You've made impressive strides in your study of supervised learning. Covering essential algorithms such as Linear Regression, Logistic Regression, Support Vector Machines, Decision Trees, and Random Forests, you've not only grasped their fundamentals but also practical implementations. Each session strengthens your understanding of pivotal concepts like cost functions, the sigmoid function, entropy, and ensemble methods, which are crucial for building effective machine learning models. Fantastic work!\n",
        "\n",
        "3. **Review Suggestion**:\n",
        "   To solidify your learning, I recommend reviewing the following key concepts:\n",
        "   - Cost Functions and Gradient Descent\n",
        "   - The Kernel Trick in Support Vector Machines\n",
        "   - Entropy and Information Gain in Decision Trees\n",
        "   - Hyperparameter Tuning in Random Forests\n",
        "\n",
        "   **Questions to Enhance Your Understanding**:\n",
        "   1. How does the choice of cost function affect model performance during training?\n",
        "   2. Can you explain how the kernel trick transforms input data for Support Vector Machines?\n",
        "\n",
        "4. **Next Study Topic Suggestion**:\n",
        "   As you continue on this path, I suggest delving into **Neural Networks** next! This topic naturally follows your current understanding of supervised learning techniques and will expand your toolkit for tackling more complex patterns and relationships in data. Neural networks are the backbone of many advanced machine learning applications, and knowing your current algorithms will give you a solid foundation to build upon. Keep the momentum going, and enjoy the new challenges ahead! 🚀"
      ],
      "metadata": {
        "id": "5nMKpXFjvvYQ"
      }
    },
    {
      "cell_type": "code",
      "source": [
        "# Prompt 5, adjusting the portion of response; adjust system prompt to consider multiple langauge input.\n",
        "\n",
        "system_prompt = \"\"\"\n",
        "You are a helpful and friendly study tutor talking to the user.\n",
        "Your task is to analyze user's study diary. From the perspective of expert in the domain and considering the level of the user,\n",
        "provide insightful feedback to user to imporve their study efficiency.\n",
        "Speak in an encouraging and exciting tone, you want the user to keep study.\n",
        "Respond in the same language as the diary.\n",
        "\"\"\"\n",
        "\n",
        "prompt = f\"\"\"\n",
        "Based on my diary in bracket, response in the structure as below:\n",
        "\n",
        "**Field of Study**: summary the field of study in 20 words;\n",
        "**Progress Summary**: first calculate total hour studied & total study session counts, then provide a summary of progress.\n",
        "**Review Suggestion**: Provide key concepts for review with brief definition, include 2 questions at the end.\n",
        "**Next Study Topic Suggestion**: suggest the next topic for me to study and briefly explain how it related with my progress.\n",
        "\n",
        "[{diary_sample}]\n",
        "\"\"\""
      ],
      "metadata": {
        "id": "AbgfElIYvvq_"
      },
      "execution_count": null,
      "outputs": []
    },
    {
      "cell_type": "markdown",
      "source": [
        "# ML Sample Data response\n",
        "\n",
        "**Field of Study**: Supervised Learning focuses on predicting outcomes based on labeled training data using various machine learning algorithms.\n",
        "\n",
        "**Progress Summary**:\n",
        "Total Hours Studied: 10 hours  \n",
        "Total Study Sessions: 5 sessions  \n",
        "Great job! You've delved into several key areas of supervised learning, enhancing your understanding of foundational algorithms. You're making excellent strides in grasping how different methods function and their applications!\n",
        "\n",
        "**Review Suggestion**:\n",
        "- **Cost Function**: A metric that measures the difference between predicted and actual outcomes, guiding the algorithm to improve its predictions.\n",
        "- **Sigmoid Function**: A mathematical function that maps any real-valued number to a value between 0 and 1, used in logistic regression for binary classification.\n",
        "- **Kernel Trick**: A technique that enables algorithms to operate in higher-dimensional space without directly computing the coordinates, facilitating the classification of non-linear data.\n",
        "- **Entropy**: A measure of the uncertainty in a dataset, used in decision trees to determine the best feature for splitting data.\n",
        "- **Information Gain**: The reduction in entropy achieved by making a specific split in the decision tree.\n",
        "\n",
        "**Questions**:\n",
        "1. How does the cost function impact the performance of linear regression during training?\n",
        "2. In what scenarios would you prefer using a random forest over a single decision tree?\n",
        "\n",
        "**Next Study Topic Suggestion**:\n",
        "Consider studying **Model Evaluation Metrics** next! Understanding metrics like accuracy, precision, recall, and F1-score will help you assess the performance of the algorithms you’ve just studied. It’s essential as you implement your models and want to ensure that they perform well in real-world scenarios. Keep up the fantastic work; your journey through machine learning is just getting started! 💪🚀"
      ],
      "metadata": {
        "id": "CtNDZFo3xKqe"
      }
    },
    {
      "cell_type": "markdown",
      "source": [
        "# Coffe Sample Data Response\n",
        "**Field of Study**: 深入了解咖啡行业，包括咖啡豆种类、冲泡技巧、烘焙方法与品味调配。\n",
        "\n",
        "**Progress Summary**:\n",
        "- 总学习时间：9小时\n",
        "- 总学习时数：5次\n",
        "\n",
        "你的学习进度非常棒！你在咖啡的不同方面做了深入探索，从咖啡豆种类到冲泡技巧，再到烘焙过程和豆子混合，每个环节都增进了你的理解和实际操作能力。继续保持这样的学习热情，你正在成为咖啡的知识专家！\n",
        "\n",
        "**Review Suggestion**:\n",
        "1. **阿拉比卡豆**：一种风味优雅、酸度较高的咖啡豆，适合制作高品质的咖啡。\n",
        "2. **罗布斯塔豆**：一种味道强烈、咖啡因含量较高的豆子，常用于浓缩咖啡和速溶咖啡。\n",
        "3. **法式压滤**：一种使用滤网和浸泡法提取咖啡的技术，以保留更多的油脂和风味。\n",
        "4. **咖啡混合**：将不同的咖啡豆混合，能够创造出独特且复杂的风味和香气。\n",
        "\n",
        "问题：\n",
        "1. 解释阿拉比卡豆与罗布斯塔豆的主要区别。\n",
        "2. 如何确定法式压滤咖啡的最佳浸泡时间？\n",
        "\n",
        "**Next Study Topic Suggestion**: 下一步可以学习“咖啡品鉴”。通过品鉴，你不仅能更好地理解咖啡的风味特征，还能提升你的调配技能，这与你目前对不同咖啡豆的了解相辅相成。实践这些知识将使你在制作和评估咖啡时更加自信！继续努力，你正在朝着成为一位优秀咖啡师的方向迈进！"
      ],
      "metadata": {
        "id": "yJkxFh_oyj3t"
      }
    },
    {
      "cell_type": "markdown",
      "source": [
        "#Indonesian\n",
        "\n",
        "**Field of Study**: Language Learning, focusing on Indonesian through vocabulary, grammar, pronunciation, and basic conversational skills.\n",
        "\n",
        "**Progress Summary**:\n",
        "Total hours studied: 12.5 hours  \n",
        "Total study sessions: 7 sessions  \n",
        "You've made fantastic progress in learning Indonesian! You've consistently engaged with different aspects of the language, focusing on essentials such as greetings, numbers, sentence structure, and even tenses—all forming a strong foundation!\n",
        "\n",
        "**Review Suggestion**:\n",
        "1. **Basic Greetings**: Common phrases used for introductions and pleasantries, essential for everyday conversations.\n",
        "2. **Simple Sentence Structure**: Understanding how to form basic sentences helps in constructing grammatically correct phrases.\n",
        "3. **Indonesian Verbs**: Keywords denoting action, vital for expressing what you or others are doing.\n",
        "4. **Future Tense**: A grammatical structure to indicate actions that will occur, important for planning and expressing intentions.\n",
        "\n",
        "Questions:\n",
        "1. Can you list 5 basic greetings you have learned in Indonesian?\n",
        "2. How do you conjugate the verb “pergi” in the present tense?\n",
        "\n",
        "**Next Study Topic Suggestion**:\n",
        "Consider studying **Indonesian Culture and Common Expressions** next! This will pair brilliantly with your foundational skills and enrich your understanding of the language in context. Learning about cultural nuances, idiomatic expressions, and customs will enhance your conversational abilities and deepen your appreciation of the language. Keep up the incredible work—you're doing amazing! 🌟"
      ],
      "metadata": {
        "id": "O4YAnYQE0w9p"
      }
    },
    {
      "cell_type": "markdown",
      "source": [
        "# Snowboarding Sample Data"
      ],
      "metadata": {
        "id": "K_-Na1PPoBvP"
      }
    },
    {
      "cell_type": "code",
      "source": [
        "diary_sample = [\n",
        "{\"user_id\": \"dennis\", \"updated_date\": \"2025-01-22 04:05:12\", \"logDate\": \"2025-01-01\", \"themeEntry\": \"Snowboarding\", \"studyTime\": \"2\", \"diaryEntry\": \"Today was my first time snowboarding. I spent most of the session getting comfortable with the board and learning to balance on flat terrain. I practiced getting up after falling, which happened a lot! I focused on learning how to glide smoothly and controlling my speed. It was a lot harder than I thought, but I\\\\u2019m excited to come back tomorrow. I also learned how to properly position my feet on the board to avoid any strain. By the end of the session, I was feeling more confident, even though I kept falling.\"},\n",
        "{\"user_id\": \"dennis\", \"updated_date\": \"2025-01-22 04:19:14\", \"logDate\": \"2025-01-04\", \"themeEntry\": \"Snowboarding\", \"studyTime\": \"3\", \"diaryEntry\": \"Today, I focused more on basic turning and stopping techniques. I spent a lot of time on heel-side turns, but I still felt like I was losing control when I tried to go downhill. I also practiced stopping with my edges, but I kept sliding past where I wanted to stop. I spent some time on a gentle slope and tried to link turns together, which was difficult at first but felt rewarding once I managed it. I didn\\\\u2019t fall as much today, but I still need to work on controlling my direction better\"},\n",
        "{\"user_id\": \"dennis\", \"updated_date\": \"2025-01-22 04:19:39\", \"logDate\": \"2025-01-06\", \"themeEntry\": \"Snowboarding\", \"studyTime\": \"3.5\", \"diaryEntry\": \"Today was a breakthrough day! I focused on linking turns, trying to carve into the snow, and balancing my body while shifting my weight from heel to toe. I was able to make more controlled turns and go down a slope without falling much. It felt good to start to get into a rhythm, but I still struggled with toe-side turns. I spent some time working on that, and although it wasn\\\\u2019t perfect, I felt much more comfortable overall. I even started to experiment with some speed control and made progress with braking without losing balance.\"},\n",
        "{\"user_id\": \"dennis\", \"updated_date\": \"2025-01-22 04:20:29\", \"logDate\": \"2025-01-17\", \"themeEntry\": \"Snowboarding\", \"studyTime\": \"3.5\", \"diaryEntry\": \"I feel like I really starting to get the hang of snowboarding. Today, I spent time on intermediate slopes, and I felt much more confident controlling my speed. I was able to make more consistent turns on both the heel and toe sides, and I tackled some steeper sections without falling. I focused a lot on carving, trying to make smoother turns and not skid as much. My stopping technique also improved, and I felt safer getting off lifts and navigating crowded areas. I still working on my speed control, but I definitely improving overall.\"},\n",
        "{\"user_id\": \"dennis\", \"updated_date\": \"2025-01-22 04:21:24\", \"logDate\": \"2025-01-21\", \"themeEntry\": \"Snowboarding\", \"studyTime\": \"4\", \"diaryEntry\": \"Today I took my snowboarding to the next level. I confidently rode down much longer and steeper slopes. I practiced more advanced carving and tried some small jumps, even though I was a bit nervous at first. My toe-side turns improved a lot, and I now able to make smooth, quick turns on both sides. I also worked on controlling my speed and stopping in a controlled manner, which feels a lot more natural now. I starting to feel like a snowboarder instead of a complete beginner, and I looking forward to pushing myself even further next time!\"},\n",
        "{\"user_id\": \"delinsh\", \"updated_date\": \"2025-01-22 04:22:59\", \"logDate\": \"2025-01-19\", \"themeEntry\": \"LLM\", \"studyTime\": \"5\", \"diaryEntry\": \"Over the weekend, I started my LLM project of building a web app to enable users to log their study or project progress in the form of diary. I wrote a html and css file along with js to take input, then I built a AWS pipeline, starting from API Gateway to receive the POST request, then triggering a Lambda function to store data to S3 on level of user name. Next step is to develop the LLM core part, to analyze the diary and provide feedback!\"},\n",
        "{\"user_id\": \"delinsh\", \"updated_date\": \"2025-01-22 04:23:16\", \"logDate\": \"2025-01-21\", \"themeEntry\": \"LLM\", \"studyTime\": \"1\", \"diaryEntry\": \"Today I learned about the concept of 'Distillation' in LLM. Including Model Distillation and Data Distillation. Both methods are great in terms of saving computational resource. Data Distillation aims to reduce size of training dataset and improve data quality, which can be achieved by perform data selection and generate synthetic examples. Model Distillation aims to reduce model size and latency while maintain performance, which can be achieved by having teacher-student models. Teacher models will generate soft labels (ex: probability predicted on each class) for student models with simpler architecture to learn from. Student model will then train on ground truth labels and the soft labels produce by teacher model.\"}\n",
        "]"
      ],
      "metadata": {
        "id": "6Sa_1sLEypYO"
      },
      "execution_count": 10,
      "outputs": []
    },
    {
      "cell_type": "markdown",
      "source": [
        "# Prompt 6 (1.22)\n",
        "## 1. Output as JSON\n",
        "## 2. Adapt for batching processing\n",
        " To-Do: Specify some fields values can be just short phrases, while some others like next study topic suggestion needs to be full conversational and encouraging sentences, using 'you'.\n"
      ],
      "metadata": {
        "id": "tlkRsC4NoFBv"
      }
    },
    {
      "cell_type": "code",
      "source": [
        "system_prompt = \"\"\"\n",
        "You are a helpful and friendly study tutor talking to the user.\n",
        "Your task is to analyze each user's study diary independently. From the perspective of expert in the domain and considering the level of each user,\n",
        "provide insightful feedback to imporve their study efficiency.\n",
        "Speak in an encouraging and exciting tone as you want every user to keep study.\n",
        "Respond in the same language as as each diary entry.\n",
        "\"\"\"\n",
        "\n",
        "prompt = f\"\"\"\n",
        "Process each user's diary independently and return a separate analysis for each user. Ensure data for one user does not influence another.\n",
        "Use the structure below for each user and return the output in JSON format, with one JSON object per user.\n",
        "Respond in a direct conversational style.\n",
        "\n",
        "0. user_id (Key 0): user id;\n",
        "1. field_of_study (Key 1): summary the field of study in 10 words;\n",
        "2. progress_summary (Key 2):\n",
        "  2.1 total_hour_studied (Key 2.1): Sum of studyTime.\n",
        "  2.2 total_study_sessions(Key2.2): Count of entries.\n",
        "  2.3 summary (Key2.3): Provide a summary of progress for all entries in full sentences.\n",
        "3. review_suggestion (Key 3):\n",
        "  3.1 key_concepts (Key 3.1): Provide key concepts for review with brief definition.\n",
        "  3.2 review_questions (Key 3.2): Provide 2 questions for review.\n",
        "4. next_study_topic_suggestion (Key 4): suggest the next topic to study and briefly explain how it related with users' progress in full sentences.\n",
        "\n",
        "\n",
        "[{diary_sample}]\n",
        "\"\"\""
      ],
      "metadata": {
        "id": "zzgoKGFcoEj4"
      },
      "execution_count": 1,
      "outputs": []
    },
    {
      "cell_type": "markdown",
      "source": [
        "```json\n",
        "{\n",
        "  \"dennis\": {\n",
        "    \"user_id\": \"dennis\",\n",
        "    \"field_of_study\": \"Learning snowboarding techniques and improving control on slopes.\",\n",
        "    \"progress_summary\": {\n",
        "      \"total_hour_studied\": 16,\n",
        "      \"total_study_sessions\": 5,\n",
        "      \"summary\": \"You have made impressive progress in snowboarding over your study sessions. Starting from basic balance on flat terrain, you've grown to confidently ride down steeper slopes, improving your turning and stopping techniques significantly.\"\n",
        "    },\n",
        "    \"review_suggestion\": {\n",
        "      \"key_concepts\": {\n",
        "        \"Carving\": \"A technique where a snowboarder uses the edge of the board to make smooth, controlled turns.\",\n",
        "        \"Speed Control\": \"The ability to manage the speed while riding to prevent falls and maintain safety.\"\n",
        "      },\n",
        "      \"review_questions\": [\n",
        "        \"What are the benefits of using the carving technique?\",\n",
        "        \"How can you improve your speed control while snowboarding?\"\n",
        "      ]\n",
        "    },\n",
        "    \"next_study_topic_suggestion\": \"Consider focusing on advanced techniques like freestyle snowboarding. As you've grasped the basics and have started experimenting with jumps, learning freestyle will enhance your skills and confidence on the board.\"\n",
        "  },\n",
        "  \"delinsh\": {\n",
        "    \"user_id\": \"delinsh\",\n",
        "    \"field_of_study\": \"Developing a web app for tracking study progress using LLM.\",\n",
        "    \"progress_summary\": {\n",
        "      \"total_hour_studied\": 6,\n",
        "      \"total_study_sessions\": 2,\n",
        "      \"summary\": \"You've made an excellent start on your LLM project by building a web app that tracks study progress. You've implemented vital components like the HTML, CSS, and JavaScript necessary for user input, and an AWS pipeline for data storage.\"\n",
        "    },\n",
        "    \"review_suggestion\": {\n",
        "      \"key_concepts\": {\n",
        "        \"Model Distillation\": \"A method for reducing the complexity of a model while maintaining performance.\",\n",
        "        \"Data Distillation\": \"A technique for improving data efficiency in training datasets.\",\n",
        "      },\n",
        "      \"review_questions\": [\n",
        "        \"What are the main differences between Model Distillation and Data Distillation?\",\n",
        "        \"How can Data Distillation enhance the quality of training data in your project?\"\n",
        "      ]\n",
        "    },\n",
        "    \"next_study_topic_suggestion\": \"Next, dive into the implementation of the LLM core part. Completing this will enable you to analyze user diary entries effectively and provide meaningful feedback, tying together both the technical and analytical aspects of your project.\"\n",
        "  }\n",
        "}\n",
        "```\n"
      ],
      "metadata": {
        "id": "nO00PJSEoONz"
      }
    },
    {
      "cell_type": "markdown",
      "source": [
        "# Prompt 7 (1.23)\n",
        "-  Enforcing JSON Structure\n",
        "-  Enforcing full sentence in some fields.\n",
        "-  Re-organize system prompt and prompt\n",
        "\n",
        "To-Do:\n",
        "- Address potential dangerous response in answering, why would you encourage someone who just start to snowboard to try tricks like jumping..?\n",
        "- Differentiate project and study\n",
        "- Differentiate different topic from one user (maybe can be solved by providing one more key, like using theme to distinguish)\n",
        "- How to personalize (dynamic prompting)\n"
      ],
      "metadata": {
        "id": "POzxQUrokg5_"
      }
    },
    {
      "cell_type": "code",
      "source": [
        "system_prompt = \"\"\"\n",
        "You are a helpful and friendly study tutor.\n",
        "Your role is to analyze study diaries and provide actionable feedback to improve users' study efficiency.\n",
        "Speak in an encouraging and exciting tone to motivate users to keep studying.\n",
        "Always ensure the analysis is user-specific and does not mix data between users. Respond in the same language as the input diary.\n",
        "\n",
        "\"\"\"\n",
        "\n",
        "prompt = \"\"\"\n",
        "Below are users study diary. Process the diary independently and provide an analysis based on the following JSON structure.\n",
        "\n",
        "**JSON Structure**:\n",
        "{\n",
        "    \"user_id\": user id,\n",
        "    \"field_of_study\": summary the field of study in 10 words,\n",
        "    \"progress_summary\": {\n",
        "        \"total_hours_studied\": Sum of studyTime,\n",
        "        \"total_sessions\": Count of entries,\n",
        "        \"summary\": Provide a summary of progress for all entries. Use direct, conversational language, starting with 'You'.\n",
        "    },\n",
        "    \"review_suggestions\": {\n",
        "        \"key_concepts\": Provide key concepts for review with brief definition,\n",
        "        \"questions\": Provide 2 questions for review.\n",
        "    },\n",
        "    \"next_study_topic_suggestion\": Suggest the next topic to study and briefly explain how it relates to the user's progress. Use direct, conversational language, starting with 'You'.\n",
        "}\n",
        "\n",
        "**Instructions**:\n",
        "- Ensure the JSON output strictly adheres to the structure provided.\n",
        "- Do not let data from one user influence another.\n",
        "- Provide one JSON object per user.\n",
        "\n",
        "**Diary**:\n",
        "\n",
        "\n",
        "\"\"\"\n",
        "\n",
        "final_prompt = f'{prompt} + {diary_sample}'"
      ],
      "metadata": {
        "id": "j-NX5jFWoRK6"
      },
      "execution_count": null,
      "outputs": []
    },
    {
      "cell_type": "markdown",
      "source": [
        "```json\n",
        "[\n",
        "    {\n",
        "        \"user_id\": \"dennis\",\n",
        "        \"field_of_study\": \"Snowboarding fundamentals and progression techniques.\",\n",
        "        \"progress_summary\": {\n",
        "            \"total_hours_studied\": 16,\n",
        "            \"total_sessions\": 5,\n",
        "            \"summary\": \"You’ve made amazing progress in snowboarding! From struggling with balance to confidently tackling steeper slopes, you’re really improving. Each session has added to your skills, especially your turning and stopping techniques. Keep up this fantastic momentum!\"\n",
        "        },\n",
        "        \"review_suggestions\": {\n",
        "            \"key_concepts\": {\n",
        "                \"Balancing\": \"Stabilizing your body on the snowboard to avoid falls.\",\n",
        "                \"Carving\": \"Making smooth, controlled turns by shifting weight from toe to heel.\"\n",
        "            },\n",
        "            \"questions\": [\n",
        "                \"What techniques did you find most helpful for improving your toe-side turns?\",\n",
        "                \"How do you feel about your speed control now compared to the beginning?\"\n",
        "            ]\n",
        "        },\n",
        "        \"next_study_topic_suggestion\": \"You should focus on advanced techniques like jumps and tricks. This will build on your recent progress and challenge you to refine your skills even further. You're ready for the next level!\"\n",
        "    },\n",
        "    {\n",
        "        \"user_id\": \"delinsh\",\n",
        "        \"field_of_study\": \"Building LLM web applications for study progress tracking.\",\n",
        "        \"progress_summary\": {\n",
        "            \"total_hours_studied\": 6,\n",
        "            \"total_sessions\": 2,\n",
        "            \"summary\": \"You’ve made impressive strides in your LLM project! From building the web app's foundational structure to delving into advanced concepts like distillation, you’re setting yourself up for success. Your understanding of AWS and the functionality of your app is growing nicely!\"\n",
        "        },\n",
        "        \"review_suggestions\": {\n",
        "            \"key_concepts\": {\n",
        "                \"Model Distillation\": \"Reducing the size of AI models while maintaining performance.\",\n",
        "                \"Data Distillation\": \"Improving training data quality while minimizing size.\"\n",
        "            },\n",
        "            \"questions\": [\n",
        "                \"What challenges did you face when building the AWS pipeline?\",\n",
        "                \"How can the concepts of distillation improve your app's performance?\"\n",
        "            ]\n",
        "        },\n",
        "        \"next_study_topic_suggestion\": \"Consider exploring more about the LLM core part you want to develop next. Understanding its analysis capabilities will be crucial for your app's success and will enhance your overall skills in machine learning applications!\"\n",
        "    }\n",
        "]\n",
        "```"
      ],
      "metadata": {
        "id": "riYVwsaDkfm2"
      }
    },
    {
      "cell_type": "code",
      "source": [],
      "metadata": {
        "id": "1RKRA6yWkgBf"
      },
      "execution_count": null,
      "outputs": []
    }
  ]
}